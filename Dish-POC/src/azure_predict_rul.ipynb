{
 "cells": [
  {
   "cell_type": "code",
   "execution_count": 1,
   "metadata": {},
   "outputs": [
    {
     "data": {
      "text/html": [
       "<style scoped>\n",
       "  .ansiout {\n",
       "    display: block;\n",
       "    unicode-bidi: embed;\n",
       "    white-space: pre-wrap;\n",
       "    word-wrap: break-word;\n",
       "    word-break: break-all;\n",
       "    font-family: \"Source Code Pro\", \"Menlo\", monospace;;\n",
       "    font-size: 13px;\n",
       "    color: #555;\n",
       "    margin-left: 4px;\n",
       "    line-height: 19px;\n",
       "  }\n",
       "</style>\n",
       "<div class=\"ansiout\"></div>"
      ]
     },
     "metadata": {},
     "output_type": "display_data"
    }
   ],
   "source": [
    "'''\n",
    "Created on 30 July 2019 for Dish IOT demo\n",
    "\n",
    "Regression models: How many more cycles an in-service device will last before it fails?\n",
    "\n",
    "'''\n",
    "import pandas as pd\n",
    "import numpy as np\n",
    "import matplotlib\n",
    "# matplotlib.use(\"Agg\")\n",
    "import matplotlib.pyplot as plt\n",
    "import os\n",
    "from sklearn import preprocessing\n",
    "\n",
    "# Setting seed for reproducibility - do this before importing keras.models.Sequential\n",
    "np.random.seed(20190801)\n",
    "PYTHONHASHSEED = 8012019\n",
    "import keras\n",
    "import keras.backend as K\n",
    "from keras.layers.core import Activation\n",
    "from keras.models import Sequential,load_model\n",
    "from keras.layers import Dense, Dropout, LSTM\n",
    "\n",
    "\n",
    "\n",
    "\n",
    "# define path to save model\n",
    "# model_path = '../Output/regression_model.h5'\n"
   ]
  },
  {
   "cell_type": "code",
   "execution_count": 2,
   "metadata": {},
   "outputs": [
    {
     "data": {
      "text/html": [
       "<style scoped>\n",
       "  .ansiout {\n",
       "    display: block;\n",
       "    unicode-bidi: embed;\n",
       "    white-space: pre-wrap;\n",
       "    word-wrap: break-word;\n",
       "    word-break: break-all;\n",
       "    font-family: \"Source Code Pro\", \"Menlo\", monospace;;\n",
       "    font-size: 13px;\n",
       "    color: #555;\n",
       "    margin-left: 4px;\n",
       "    line-height: 19px;\n",
       "  }\n",
       "</style>\n",
       "<div class=\"ansiout\">/mnt/t3diiotdatastorage has been unmounted.\n",
       "<span class=\"ansired\">Out[</span><span class=\"ansired\">11</span><span class=\"ansired\">]: </span>True\n",
       "</div>"
      ]
     },
     "metadata": {},
     "output_type": "display_data"
    }
   ],
   "source": [
    "# Mount the data location\n",
    "dbutils.fs.unmount(\"/mnt/t3diiotdatastorage\")"
   ]
  },
  {
   "cell_type": "code",
   "execution_count": 3,
   "metadata": {},
   "outputs": [
    {
     "data": {
      "text/html": [
       "<style scoped>\n",
       "  .ansiout {\n",
       "    display: block;\n",
       "    unicode-bidi: embed;\n",
       "    white-space: pre-wrap;\n",
       "    word-wrap: break-word;\n",
       "    word-break: break-all;\n",
       "    font-family: \"Source Code Pro\", \"Menlo\", monospace;;\n",
       "    font-size: 13px;\n",
       "    color: #555;\n",
       "    margin-left: 4px;\n",
       "    line-height: 19px;\n",
       "  }\n",
       "</style>\n",
       "<div class=\"ansiout\"><span class=\"ansired\">Out[</span><span class=\"ansired\">12</span><span class=\"ansired\">]: </span>True\n",
       "</div>"
      ]
     },
     "metadata": {},
     "output_type": "display_data"
    }
   ],
   "source": [
    "dbutils.fs.mount(\n",
    "  source = \"wasbs://production@t3diiotdatastorage.blob.core.windows.net\",\n",
    "  mount_point = \"/mnt/t3diiotdatastorage\",\n",
    "  extra_configs = {\"fs.azure.account.key.t3diiotdatastorage.blob.core.windows.net\":dbutils.secrets.get(scope = \"azure-key-vault-secrets\", key = \"processedtraindataaccountkey\")})"
   ]
  },
  {
   "cell_type": "code",
   "execution_count": 4,
   "metadata": {},
   "outputs": [
    {
     "data": {
      "text/html": [
       "<style scoped>\n",
       "  .ansiout {\n",
       "    display: block;\n",
       "    unicode-bidi: embed;\n",
       "    white-space: pre-wrap;\n",
       "    word-wrap: break-word;\n",
       "    word-break: break-all;\n",
       "    font-family: \"Source Code Pro\", \"Menlo\", monospace;;\n",
       "    font-size: 13px;\n",
       "    color: #555;\n",
       "    margin-left: 4px;\n",
       "    line-height: 19px;\n",
       "  }\n",
       "</style>\n",
       "<div class=\"ansiout\"><span class=\"ansired\">Out[</span><span class=\"ansired\">13</span><span class=\"ansired\">]: </span>\n",
       "[FileInfo(path=&apos;dbfs:/mnt/t3diiotdatastorage/Device Data with Timestamps.csv&apos;, name=&apos;Device Data with Timestamps.csv&apos;, size=928420),\n",
       " FileInfo(path=&apos;dbfs:/mnt/t3diiotdatastorage/Device Data.csv&apos;, name=&apos;Device Data.csv&apos;, size=744580),\n",
       " FileInfo(path=&apos;dbfs:/mnt/t3diiotdatastorage/Sample Data.csv&apos;, name=&apos;Sample Data.csv&apos;, size=3982164),\n",
       " FileInfo(path=&apos;dbfs:/mnt/t3diiotdatastorage/predict-transform-output.csv&apos;, name=&apos;predict-transform-output.csv&apos;, size=1080542),\n",
       " FileInfo(path=&apos;dbfs:/mnt/t3diiotdatastorage/processed_train_fd001_with_rul.csv&apos;, name=&apos;processed_train_fd001_with_rul.csv&apos;, size=3548554),\n",
       " FileInfo(path=&apos;dbfs:/mnt/t3diiotdatastorage/wrangled_data_folder/&apos;, name=&apos;wrangled_data_folder/&apos;, size=0)]\n",
       "</div>"
      ]
     },
     "metadata": {},
     "output_type": "display_data"
    }
   ],
   "source": [
    "dbutils.fs.ls(\"/mnt/t3diiotdatastorage\")"
   ]
  },
  {
   "cell_type": "code",
   "execution_count": 5,
   "metadata": {},
   "outputs": [
    {
     "data": {
      "text/html": [
       "<style scoped>\n",
       "  .ansiout {\n",
       "    display: block;\n",
       "    unicode-bidi: embed;\n",
       "    white-space: pre-wrap;\n",
       "    word-wrap: break-word;\n",
       "    word-break: break-all;\n",
       "    font-family: \"Source Code Pro\", \"Menlo\", monospace;;\n",
       "    font-size: 13px;\n",
       "    color: #555;\n",
       "    margin-left: 4px;\n",
       "    line-height: 19px;\n",
       "  }\n",
       "</style>\n",
       "<div class=\"ansiout\"></div>"
      ]
     },
     "metadata": {},
     "output_type": "display_data"
    }
   ],
   "source": []
  },
  {
   "cell_type": "code",
   "execution_count": 6,
   "metadata": {},
   "outputs": [
    {
     "data": {
      "text/html": [
       "<style scoped>\n",
       "  .ansiout {\n",
       "    display: block;\n",
       "    unicode-bidi: embed;\n",
       "    white-space: pre-wrap;\n",
       "    word-wrap: break-word;\n",
       "    word-break: break-all;\n",
       "    font-family: \"Source Code Pro\", \"Menlo\", monospace;;\n",
       "    font-size: 13px;\n",
       "    color: #555;\n",
       "    margin-left: 4px;\n",
       "    line-height: 19px;\n",
       "  }\n",
       "</style>\n",
       "<div class=\"ansiout\"></div>"
      ]
     },
     "metadata": {},
     "output_type": "display_data"
    }
   ],
   "source": [
    "# spark_df = spark.read.csv(\"/mnt/t3diiotdatastorage/Device Data with Timestamps.csv\", inferSchema=True, header=True)\n",
    "spark_df = spark.read.csv(\"/mnt/t3diiotdatastorage/predict-transform-output.csv\", inferSchema=True, header=True)"
   ]
  },
  {
   "cell_type": "code",
   "execution_count": 7,
   "metadata": {},
   "outputs": [
    {
     "data": {
      "text/html": [
       "<style scoped>\n",
       "  .ansiout {\n",
       "    display: block;\n",
       "    unicode-bidi: embed;\n",
       "    white-space: pre-wrap;\n",
       "    word-wrap: break-word;\n",
       "    word-break: break-all;\n",
       "    font-family: \"Source Code Pro\", \"Menlo\", monospace;;\n",
       "    font-size: 13px;\n",
       "    color: #555;\n",
       "    margin-left: 4px;\n",
       "    line-height: 19px;\n",
       "  }\n",
       "</style>\n",
       "<div class=\"ansiout\"></div>"
      ]
     },
     "metadata": {},
     "output_type": "display_data"
    }
   ],
   "source": []
  },
  {
   "cell_type": "code",
   "execution_count": 8,
   "metadata": {},
   "outputs": [
    {
     "data": {
      "text/html": [
       "<style scoped>\n",
       "  .ansiout {\n",
       "    display: block;\n",
       "    unicode-bidi: embed;\n",
       "    white-space: pre-wrap;\n",
       "    word-wrap: break-word;\n",
       "    word-break: break-all;\n",
       "    font-family: \"Source Code Pro\", \"Menlo\", monospace;;\n",
       "    font-size: 13px;\n",
       "    color: #555;\n",
       "    margin-left: 4px;\n",
       "    line-height: 19px;\n",
       "  }\n",
       "</style>\n",
       "<div class=\"ansiout\"><span class=\"ansired\">Out[</span><span class=\"ansired\">15</span><span class=\"ansired\">]: </span>\n",
       "   unit_number  device_timestamp  latency ...   cpu  unique_sequence  rul\n",
       "0            1        1564349324      261 ...    29                1  258\n",
       "1            1        1564349325      259 ...    73                2  257\n",
       "2            1        1564349326      258 ...    58                3  256\n",
       "3            1        1564349327      259 ...    36                4  255\n",
       "4            1        1564349328      256 ...    44                5  254\n",
       "\n",
       "[5 rows x 10 columns]\n",
       "</div>"
      ]
     },
     "metadata": {},
     "output_type": "display_data"
    }
   ],
   "source": [
    "##################################\n",
    "# Data Ingestion\n",
    "##################################\n",
    "\n",
    "# train_df = pd.read_csv('../Dataset/predict-transform-output.csv')\n",
    "df = spark_df.toPandas()\n",
    "df.columns = ['unit_number', 'device_timestamp', 'latency', 'voltage', 'availBw', 'vlanId', 'erroredSeconds',\n",
    "                     'cpu', 'unique_sequence', 'rul']\n",
    "df = train_df.sort_values(['unit_number','unique_sequence'])\n",
    "df.head()"
   ]
  },
  {
   "cell_type": "code",
   "execution_count": 9,
   "metadata": {},
   "outputs": [
    {
     "data": {
      "text/html": [
       "<style scoped>\n",
       "  .ansiout {\n",
       "    display: block;\n",
       "    unicode-bidi: embed;\n",
       "    white-space: pre-wrap;\n",
       "    word-wrap: break-word;\n",
       "    word-break: break-all;\n",
       "    font-family: \"Source Code Pro\", \"Menlo\", monospace;;\n",
       "    font-size: 13px;\n",
       "    color: #555;\n",
       "    margin-left: 4px;\n",
       "    line-height: 19px;\n",
       "  }\n",
       "</style>\n",
       "<div class=\"ansiout\"></div>"
      ]
     },
     "metadata": {},
     "output_type": "display_data"
    }
   ],
   "source": [
    "# \n",
    "from sklearn.model_selection import KFold\n",
    "k = 5\n",
    "kf = KFold(n_splits=k, random_state=201809, shuffle=True)\n",
    "unit_number = df.unit_number.unique()\n",
    "kf.get_n_splits(unit_number)\n",
    "\n",
    "fold_indices = []\n",
    "for train_indices, test_indices in kf.split(unit_number):\n",
    "    fold_indices.append((train_indices, test_indices))\n",
    "\n",
    "# just build for one fold first; then we can put in a loop\n",
    "train_ids = unit_number[fold_indices[0][0]]\n",
    "test_ids = unit_number[fold_indices[0][1]]\n",
    "\n",
    "train_df = df[df['unit_number'].isin(train_ids)]\n",
    "test_df = df[df['unit_number'].isin(test_ids)]\n",
    "\n",
    "train_df = train_df.sort_values(['unit_number', 'unique_sequence'])\n",
    "test_df = test_df.sort_values(['unit_number', 'unique_sequence'])"
   ]
  },
  {
   "cell_type": "code",
   "execution_count": 10,
   "metadata": {},
   "outputs": [
    {
     "data": {
      "text/html": [
       "<style scoped>\n",
       "  .ansiout {\n",
       "    display: block;\n",
       "    unicode-bidi: embed;\n",
       "    white-space: pre-wrap;\n",
       "    word-wrap: break-word;\n",
       "    word-break: break-all;\n",
       "    font-family: \"Source Code Pro\", \"Menlo\", monospace;;\n",
       "    font-size: 13px;\n",
       "    color: #555;\n",
       "    margin-left: 4px;\n",
       "    line-height: 19px;\n",
       "  }\n",
       "</style>\n",
       "<div class=\"ansiout\">(20149, 10)\n",
       "80\n",
       "[ 1  2  3  5  6  8  9 10 11 12 13 14 15 16 17 18 20 21 22 23 24 25 27 28\n",
       " 29 30 31 33 34 35 36 37 38 40 41 43 44 46 47 48 50 51 52 53 54 55 56 57\n",
       " 58 59 60 61 62 63 64 65 66 67 69 70 71 73 74 75 77 78 79 82 84 85 86 90\n",
       " 91 93 94 95 96 97 98 99]\n",
       "   unit_number  device_timestamp  latency ...   cpu  unique_sequence  rul\n",
       "0            1        1564349324      261 ...    29                1  258\n",
       "1            1        1564349325      259 ...    73                2  257\n",
       "2            1        1564349326      258 ...    58                3  256\n",
       "3            1        1564349327      259 ...    36                4  255\n",
       "4            1        1564349328      256 ...    44                5  254\n",
       "\n",
       "[5 rows x 10 columns]\n",
       "(4571, 10)\n",
       "20\n",
       "[  4   7  19  26  32  39  42  45  49  68  72  76  80  81  83  87  88  89\n",
       "  92 100]\n",
       "     unit_number  device_timestamp  latency ...   cpu  unique_sequence  rul\n",
       "734            4        1564349324      262 ...    65                1  271\n",
       "735            4        1564349325      264 ...    31                2  270\n",
       "736            4        1564349326      269 ...    65                3  269\n",
       "737            4        1564349327      275 ...    54                4  268\n",
       "738            4        1564349328      262 ...    51                5  267\n",
       "\n",
       "[5 rows x 10 columns]\n",
       "</div>"
      ]
     },
     "metadata": {},
     "output_type": "display_data"
    }
   ],
   "source": [
    "# Lets check number of unique devices - Train set\n",
    "print(train_df.shape)\n",
    "print(len(train_df['unit_number'].unique()))\n",
    "print(train_df['unit_number'].unique())\n",
    "print(train_df.head())\n",
    "\n",
    "# Lets check number of unique devices - Test set\n",
    "print(test_df.shape)\n",
    "print(len(test_df['unit_number'].unique()))\n",
    "print(test_df['unit_number'].unique())\n",
    "print(test_df.head())"
   ]
  },
  {
   "cell_type": "code",
   "execution_count": 11,
   "metadata": {},
   "outputs": [
    {
     "data": {
      "text/html": [
       "<style scoped>\n",
       "  .ansiout {\n",
       "    display: block;\n",
       "    unicode-bidi: embed;\n",
       "    white-space: pre-wrap;\n",
       "    word-wrap: break-word;\n",
       "    word-break: break-all;\n",
       "    font-family: \"Source Code Pro\", \"Menlo\", monospace;;\n",
       "    font-size: 13px;\n",
       "    color: #555;\n",
       "    margin-left: 4px;\n",
       "    line-height: 19px;\n",
       "  }\n",
       "</style>\n",
       "<div class=\"ansiout\"><span class=\"ansired\">Out[</span><span class=\"ansired\">19</span><span class=\"ansired\">]: </span>\n",
       "   unit_number  device_timestamp  latency   ...    rul  label1  label2\n",
       "0            1        1564349324      261   ...    258       0       0\n",
       "1            1        1564349325      259   ...    257       0       0\n",
       "2            1        1564349326      258   ...    256       0       0\n",
       "3            1        1564349327      259   ...    255       0       0\n",
       "4            1        1564349328      256   ...    254       0       0\n",
       "\n",
       "[5 rows x 12 columns]\n",
       "</div>"
      ]
     },
     "metadata": {},
     "output_type": "display_data"
    }
   ],
   "source": [
    "##################################\n",
    "# Data Preprocessing\n",
    "##################################\n",
    "\n",
    "#######\n",
    "# TRAIN\n",
    "#######\n",
    "\n",
    "# generate label columns for training data just in case we need to create binary classification model\n",
    "# answer the question: is a specific engine going to fail within w1 cycles?\n",
    "w1 = 30\n",
    "w0 = 15\n",
    "train_df['label1'] = np.where(train_df['rul'] <= w1, 1, 0 )\n",
    "train_df['label2'] = train_df['label1']\n",
    "train_df.loc[train_df['rul'] <= w0, 'label2'] = 2\n",
    "train_df.head()"
   ]
  },
  {
   "cell_type": "code",
   "execution_count": 12,
   "metadata": {},
   "outputs": [
    {
     "data": {
      "text/html": [
       "<style scoped>\n",
       "  .ansiout {\n",
       "    display: block;\n",
       "    unicode-bidi: embed;\n",
       "    white-space: pre-wrap;\n",
       "    word-wrap: break-word;\n",
       "    word-break: break-all;\n",
       "    font-family: \"Source Code Pro\", \"Menlo\", monospace;;\n",
       "    font-size: 13px;\n",
       "    color: #555;\n",
       "    margin-left: 4px;\n",
       "    line-height: 19px;\n",
       "  }\n",
       "</style>\n",
       "<div class=\"ansiout\"></div>"
      ]
     },
     "metadata": {},
     "output_type": "display_data"
    }
   ],
   "source": [
    "# generate label columns w0 and w1 for test data\n",
    "test_df['label1'] = np.where(test_df['rul'] <= w1, 1, 0 )\n",
    "test_df['label2'] = test_df['label1']\n",
    "test_df.loc[test_df['rul'] <= w0, 'label2'] = 2"
   ]
  },
  {
   "cell_type": "code",
   "execution_count": 13,
   "metadata": {},
   "outputs": [
    {
     "data": {
      "text/html": [
       "<style scoped>\n",
       "  .ansiout {\n",
       "    display: block;\n",
       "    unicode-bidi: embed;\n",
       "    white-space: pre-wrap;\n",
       "    word-wrap: break-word;\n",
       "    word-break: break-all;\n",
       "    font-family: \"Source Code Pro\", \"Menlo\", monospace;;\n",
       "    font-size: 13px;\n",
       "    color: #555;\n",
       "    margin-left: 4px;\n",
       "    line-height: 19px;\n",
       "  }\n",
       "</style>\n",
       "<div class=\"ansiout\">/databricks/python/lib/python3.5/site-packages/sklearn/preprocessing/data.py:334: DataConversionWarning: Data with input dtype int32, float64 were all converted to float64 by MinMaxScaler.\n",
       "  return self.partial_fit(X, y)\n",
       "<span class=\"ansired\">Out[</span><span class=\"ansired\">21</span><span class=\"ansired\">]: </span>\n",
       "   unit_number          ...           unique_sequence_norm\n",
       "0            1          ...                       0.000000\n",
       "1            1          ...                       0.001908\n",
       "2            1          ...                       0.003817\n",
       "3            1          ...                       0.005725\n",
       "4            1          ...                       0.007634\n",
       "\n",
       "[5 rows x 13 columns]\n",
       "</div>"
      ]
     },
     "metadata": {},
     "output_type": "display_data"
    }
   ],
   "source": [
    "# MinMax normalization (from 0 to 1)\n",
    "train_df['unique_sequence_norm'] = train_df['unique_sequence']\n",
    "cols_normalize = train_df.columns.difference(['unit_number', 'device_timestamp', 'unique_sequence', 'rul','label1','label2'])\n",
    "\n",
    "min_max_scaler = preprocessing.MinMaxScaler()\n",
    "norm_train_df = pd.DataFrame(min_max_scaler.fit_transform(train_df[cols_normalize]), \n",
    "                             columns=cols_normalize, \n",
    "                             index=train_df.index)\n",
    "join_df = train_df[train_df.columns.difference(cols_normalize)].join(norm_train_df)\n",
    "train_df = join_df.reindex(columns = train_df.columns)\n",
    "train_df.head()"
   ]
  },
  {
   "cell_type": "code",
   "execution_count": 14,
   "metadata": {},
   "outputs": [
    {
     "data": {
      "text/html": [
       "<style scoped>\n",
       "  .ansiout {\n",
       "    display: block;\n",
       "    unicode-bidi: embed;\n",
       "    white-space: pre-wrap;\n",
       "    word-wrap: break-word;\n",
       "    word-break: break-all;\n",
       "    font-family: \"Source Code Pro\", \"Menlo\", monospace;;\n",
       "    font-size: 13px;\n",
       "    color: #555;\n",
       "    margin-left: 4px;\n",
       "    line-height: 19px;\n",
       "  }\n",
       "</style>\n",
       "<div class=\"ansiout\"><span class=\"ansired\">Out[</span><span class=\"ansired\">22</span><span class=\"ansired\">]: </span>\n",
       "   unit_number          ...           unique_sequence_norm\n",
       "0            4          ...                       0.000000\n",
       "1            4          ...                       0.001908\n",
       "2            4          ...                       0.003817\n",
       "3            4          ...                       0.005725\n",
       "4            4          ...                       0.007634\n",
       "\n",
       "[5 rows x 13 columns]\n",
       "</div>"
      ]
     },
     "metadata": {},
     "output_type": "display_data"
    }
   ],
   "source": [
    "# MinMax normalization (from 0 to 1) for test data\n",
    "test_df['unique_sequence_norm'] = test_df['unique_sequence']\n",
    "norm_test_df = pd.DataFrame(min_max_scaler.transform(test_df[cols_normalize]), \n",
    "                            columns=cols_normalize, \n",
    "                            index=test_df.index)\n",
    "test_join_df = test_df[test_df.columns.difference(cols_normalize)].join(norm_test_df)\n",
    "test_df = test_join_df.reindex(columns = test_df.columns)\n",
    "test_df = test_df.reset_index(drop=True)\n",
    "test_df.head()"
   ]
  },
  {
   "cell_type": "code",
   "execution_count": 15,
   "metadata": {},
   "outputs": [
    {
     "data": {
      "text/html": [
       "<style scoped>\n",
       "  .ansiout {\n",
       "    display: block;\n",
       "    unicode-bidi: embed;\n",
       "    white-space: pre-wrap;\n",
       "    word-wrap: break-word;\n",
       "    word-break: break-all;\n",
       "    font-family: \"Source Code Pro\", \"Menlo\", monospace;;\n",
       "    font-size: 13px;\n",
       "    color: #555;\n",
       "    margin-left: 4px;\n",
       "    line-height: 19px;\n",
       "  }\n",
       "</style>\n",
       "<div class=\"ansiout\"></div>"
      ]
     },
     "metadata": {},
     "output_type": "display_data"
    }
   ],
   "source": [
    "# pick a large window size of 100 cycles\n",
    "sequence_length = 100\n",
    "\n",
    "# function to reshape features into (samples, time steps, features) \n",
    "def gen_sequence(id_df, seq_length, seq_cols):\n",
    "    \"\"\" Only sequences that meet the window-length are considered, no padding is used. This means for testing\n",
    "    we need to drop those which are below the window-length. An alternative would be to pad sequences so that\n",
    "    we can use shorter ones \"\"\"\n",
    "    # for one id I put all the rows in a single matrix\n",
    "    data_matrix = id_df[seq_cols].values\n",
    "    num_elements = data_matrix.shape[0]\n",
    "    # Iterate over two lists in parallel.\n",
    "    # For example id1 have 192 rows and sequence_length is equal to 50\n",
    "    # so zip iterate over two following list of numbers (0,112),(50,192)\n",
    "    # 0 50 -> from row 0 to row 50\n",
    "    # 1 51 -> from row 1 to row 51\n",
    "    # 2 52 -> from row 2 to row 52\n",
    "    # ...\n",
    "    # 111 191 -> from row 111 to 191\n",
    "    for start, stop in zip(range(0, num_elements-seq_length), range(seq_length, num_elements)):\n",
    "        yield data_matrix[start:stop, :]"
   ]
  },
  {
   "cell_type": "code",
   "execution_count": 16,
   "metadata": {},
   "outputs": [
    {
     "data": {
      "text/html": [
       "<style scoped>\n",
       "  .ansiout {\n",
       "    display: block;\n",
       "    unicode-bidi: embed;\n",
       "    white-space: pre-wrap;\n",
       "    word-wrap: break-word;\n",
       "    word-break: break-all;\n",
       "    font-family: \"Source Code Pro\", \"Menlo\", monospace;;\n",
       "    font-size: 13px;\n",
       "    color: #555;\n",
       "    margin-left: 4px;\n",
       "    line-height: 19px;\n",
       "  }\n",
       "</style>\n",
       "<div class=\"ansiout\"><span class=\"ansired\">Out[</span><span class=\"ansired\">24</span><span class=\"ansired\">]: </span>\n",
       "[&apos;latency&apos;,\n",
       " &apos;voltage&apos;,\n",
       " &apos;availBw&apos;,\n",
       " &apos;vlanId&apos;,\n",
       " &apos;erroredSeconds&apos;,\n",
       " &apos;cpu&apos;,\n",
       " &apos;unique_sequence_norm&apos;]\n",
       "</div>"
      ]
     },
     "metadata": {},
     "output_type": "display_data"
    }
   ],
   "source": [
    "# pick the feature columns \n",
    "sequence_cols = ['latency', 'voltage', 'availBw', 'vlanId', 'erroredSeconds', 'cpu', 'unique_sequence_norm']\n",
    "sequence_cols"
   ]
  },
  {
   "cell_type": "code",
   "execution_count": 17,
   "metadata": {},
   "outputs": [
    {
     "data": {
      "text/html": [
       "<style scoped>\n",
       "  .ansiout {\n",
       "    display: block;\n",
       "    unicode-bidi: embed;\n",
       "    white-space: pre-wrap;\n",
       "    word-wrap: break-word;\n",
       "    word-break: break-all;\n",
       "    font-family: \"Source Code Pro\", \"Menlo\", monospace;;\n",
       "    font-size: 13px;\n",
       "    color: #555;\n",
       "    margin-left: 4px;\n",
       "    line-height: 19px;\n",
       "  }\n",
       "</style>\n",
       "<div class=\"ansiout\">(12149, 100, 7)\n",
       "</div>"
      ]
     },
     "metadata": {},
     "output_type": "display_data"
    }
   ],
   "source": [
    "# TODO for debug \n",
    "# val is a list of 192 - 50 = 142 bi-dimensional array (50 rows x 25 columns)\n",
    "# val=list(gen_sequence(train_df[train_df['unit_number']==1], sequence_length, sequence_cols))\n",
    "# print(len(val))\n",
    "\n",
    "# generator for the sequences\n",
    "# transform each id of the train dataset in a sequence\n",
    "seq_gen = (list(gen_sequence(train_df[train_df['unit_number']==id], sequence_length, sequence_cols)) \n",
    "           for id in train_df['unit_number'].unique())\n",
    "\n",
    "# generate sequences and convert to numpy array\n",
    "seq_array = np.concatenate(list(seq_gen)).astype(np.float32)\n",
    "print(seq_array.shape)"
   ]
  },
  {
   "cell_type": "code",
   "execution_count": 18,
   "metadata": {},
   "outputs": [
    {
     "data": {
      "text/html": [
       "<style scoped>\n",
       "  .ansiout {\n",
       "    display: block;\n",
       "    unicode-bidi: embed;\n",
       "    white-space: pre-wrap;\n",
       "    word-wrap: break-word;\n",
       "    word-break: break-all;\n",
       "    font-family: \"Source Code Pro\", \"Menlo\", monospace;;\n",
       "    font-size: 13px;\n",
       "    color: #555;\n",
       "    margin-left: 4px;\n",
       "    line-height: 19px;\n",
       "  }\n",
       "</style>\n",
       "<div class=\"ansiout\"><span class=\"ansired\">Out[</span><span class=\"ansired\">26</span><span class=\"ansired\">]: </span>(12149, 1)\n",
       "</div>"
      ]
     },
     "metadata": {},
     "output_type": "display_data"
    }
   ],
   "source": [
    "# function to generate labels\n",
    "def gen_labels(id_df, seq_length, label):\n",
    "    \"\"\" Only sequences that meet the window-length are considered, no padding is used. This means for testing\n",
    "    we need to drop those which are below the window-length. An alternative would be to pad sequences so that\n",
    "    we can use shorter ones \"\"\"\n",
    "    # For one id I put all the labels in a single matrix.\n",
    "    # For example:\n",
    "    # [[1]\n",
    "    # [4]\n",
    "    # [1]\n",
    "    # [5]\n",
    "    # [9]\n",
    "    # ...\n",
    "    # [200]] \n",
    "    data_matrix = id_df[label].values\n",
    "    num_elements = data_matrix.shape[0]\n",
    "    # I have to remove the first seq_length labels\n",
    "    # because for one id the first sequence of seq_length size have as target\n",
    "    # the last label (the previus ones are discarded).\n",
    "    # All the next id's sequences will have associated step by step one label as target.\n",
    "    return data_matrix[seq_length:num_elements, :]\n",
    "\n",
    "# generate labels\n",
    "label_gen = [gen_labels(train_df[train_df['unit_number']==id], sequence_length, ['rul']) \n",
    "             for id in train_df['unit_number'].unique()]\n",
    "\n",
    "label_array = np.concatenate(label_gen).astype(np.float32)\n",
    "label_array.shape"
   ]
  },
  {
   "cell_type": "code",
   "execution_count": 19,
   "metadata": {},
   "outputs": [
    {
     "data": {
      "text/html": [
       "<style scoped>\n",
       "  .ansiout {\n",
       "    display: block;\n",
       "    unicode-bidi: embed;\n",
       "    white-space: pre-wrap;\n",
       "    word-wrap: break-word;\n",
       "    word-break: break-all;\n",
       "    font-family: \"Source Code Pro\", \"Menlo\", monospace;;\n",
       "    font-size: 13px;\n",
       "    color: #555;\n",
       "    margin-left: 4px;\n",
       "    line-height: 19px;\n",
       "  }\n",
       "</style>\n",
       "<div class=\"ansiout\">(2571, 100, 7)\n",
       "(2571, 1)\n",
       "</div>"
      ]
     },
     "metadata": {},
     "output_type": "display_data"
    }
   ],
   "source": [
    "# generator for the sequences in test set\n",
    "# transform each id of the test dataset in a sequence\n",
    "seq_gen_test = (list(gen_sequence(test_df[test_df['unit_number']==id], sequence_length, sequence_cols)) \n",
    "           for id in test_df['unit_number'].unique())\n",
    "\n",
    "# generate sequences and convert to numpy array\n",
    "seq_array_test = np.concatenate(list(seq_gen_test)).astype(np.float32)\n",
    "print(seq_array_test.shape)\n",
    "# generate labels\n",
    "label_gen_test = [gen_labels(test_df[test_df['unit_number']==id], sequence_length, ['rul']) \n",
    "             for id in test_df['unit_number'].unique()]\n",
    "\n",
    "label_array_test = np.concatenate(label_gen_test).astype(np.float32)\n",
    "print(label_array_test.shape)"
   ]
  },
  {
   "cell_type": "code",
   "execution_count": 20,
   "metadata": {},
   "outputs": [
    {
     "data": {
      "text/html": [
       "<style scoped>\n",
       "  .ansiout {\n",
       "    display: block;\n",
       "    unicode-bidi: embed;\n",
       "    white-space: pre-wrap;\n",
       "    word-wrap: break-word;\n",
       "    word-break: break-all;\n",
       "    font-family: \"Source Code Pro\", \"Menlo\", monospace;;\n",
       "    font-size: 13px;\n",
       "    color: #555;\n",
       "    margin-left: 4px;\n",
       "    line-height: 19px;\n",
       "  }\n",
       "</style>\n",
       "<div class=\"ansiout\"></div>"
      ]
     },
     "metadata": {},
     "output_type": "display_data"
    }
   ],
   "source": [
    "def r2_keras(y_true, y_pred):\n",
    "    \"\"\"Coefficient of Determination \n",
    "    \"\"\"\n",
    "    SS_res =  K.sum(K.square( y_true - y_pred ))\n",
    "    SS_tot = K.sum(K.square( y_true - K.mean(y_true) ) )\n",
    "    return ( 1 - SS_res/(SS_tot + K.epsilon()) )"
   ]
  },
  {
   "cell_type": "code",
   "execution_count": 21,
   "metadata": {},
   "outputs": [
    {
     "data": {
      "text/html": [
       "<style scoped>\n",
       "  .ansiout {\n",
       "    display: block;\n",
       "    unicode-bidi: embed;\n",
       "    white-space: pre-wrap;\n",
       "    word-wrap: break-word;\n",
       "    word-break: break-all;\n",
       "    font-family: \"Source Code Pro\", \"Menlo\", monospace;;\n",
       "    font-size: 13px;\n",
       "    color: #555;\n",
       "    margin-left: 4px;\n",
       "    line-height: 19px;\n",
       "  }\n",
       "</style>\n",
       "<div class=\"ansiout\">_________________________________________________________________\n",
       "Layer (type)                 Output Shape              Param #   \n",
       "=================================================================\n",
       "lstm_3 (LSTM)                (None, 100, 100)          43200     \n",
       "_________________________________________________________________\n",
       "dropout_3 (Dropout)          (None, 100, 100)          0         \n",
       "_________________________________________________________________\n",
       "lstm_4 (LSTM)                (None, 50)                30200     \n",
       "_________________________________________________________________\n",
       "dropout_4 (Dropout)          (None, 50)                0         \n",
       "_________________________________________________________________\n",
       "dense_2 (Dense)              (None, 1)                 51        \n",
       "_________________________________________________________________\n",
       "activation_2 (Activation)    (None, 1)                 0         \n",
       "=================================================================\n",
       "Total params: 73,451\n",
       "Trainable params: 73,451\n",
       "Non-trainable params: 0\n",
       "_________________________________________________________________\n",
       "None\n",
       "Train on 12149 samples, validate on 2571 samples\n",
       "Epoch 1/100\n",
       " - 25s - loss: 15579.5036 - mean_absolute_error: 91.6668 - r2_keras: -1.1583e+00 - val_loss: 9350.2056 - val_mean_absolute_error: 70.9144 - val_r2_keras: -6.5146e+00\n",
       "Epoch 2/100\n",
       " - 22s - loss: 14443.4513 - mean_absolute_error: 86.3920 - r2_keras: -9.9589e-01 - val_loss: 8552.8668 - val_mean_absolute_error: 66.5440 - val_r2_keras: -5.7511e+00\n",
       "Epoch 3/100\n",
       " - 22s - loss: 13474.2655 - mean_absolute_error: 82.0382 - r2_keras: -8.6067e-01 - val_loss: 7826.7312 - val_mean_absolute_error: 62.7307 - val_r2_keras: -5.0876e+00\n",
       "Epoch 4/100\n",
       " - 23s - loss: 12574.1632 - mean_absolute_error: 78.1407 - r2_keras: -7.3664e-01 - val_loss: 7178.1870 - val_mean_absolute_error: 59.5061 - val_r2_keras: -4.5296e+00\n",
       "Epoch 5/100\n",
       " - 22s - loss: 11746.1574 - mean_absolute_error: 74.7312 - r2_keras: -6.1726e-01 - val_loss: 6590.3609 - val_mean_absolute_error: 56.7908 - val_r2_keras: -4.0633e+00\n",
       "Epoch 6/100\n",
       " - 22s - loss: 10964.1925 - mean_absolute_error: 71.7243 - r2_keras: -5.0801e-01 - val_loss: 6075.4618 - val_mean_absolute_error: 54.6486 - val_r2_keras: -3.7000e+00\n",
       "Epoch 7/100\n",
       " - 22s - loss: 10265.0825 - mean_absolute_error: 69.2882 - r2_keras: -4.1189e-01 - val_loss: 5641.1971 - val_mean_absolute_error: 53.1008 - val_r2_keras: -3.4441e+00\n",
       "Epoch 8/100\n",
       " - 22s - loss: 9646.1467 - mean_absolute_error: 67.2253 - r2_keras: -3.2692e-01 - val_loss: 5278.8438 - val_mean_absolute_error: 52.0753 - val_r2_keras: -3.2895e+00\n",
       "Epoch 9/100\n",
       " - 22s - loss: 9115.9408 - mean_absolute_error: 65.7530 - r2_keras: -2.5116e-01 - val_loss: 4991.1447 - val_mean_absolute_error: 51.5280 - val_r2_keras: -3.2370e+00\n",
       "Epoch 10/100\n",
       " - 22s - loss: 8668.8878 - mean_absolute_error: 64.7746 - r2_keras: -1.8841e-01 - val_loss: 4778.9459 - val_mean_absolute_error: 51.4282 - val_r2_keras: -3.2836e+00\n",
       "Epoch 11/100\n",
       " - 22s - loss: 8272.1621 - mean_absolute_error: 64.1355 - r2_keras: -1.3592e-01 - val_loss: 4637.1676 - val_mean_absolute_error: 51.7547 - val_r2_keras: -3.4260e+00\n",
       "Epoch 12/100\n",
       " - 23s - loss: 7967.9629 - mean_absolute_error: 64.0105 - r2_keras: -9.4377e-02 - val_loss: 4565.3462 - val_mean_absolute_error: 52.4550 - val_r2_keras: -3.6546e+00\n",
       "Epoch 13/100\n",
       " - 22s - loss: 7759.3840 - mean_absolute_error: 63.9505 - r2_keras: -6.5274e-02 - val_loss: 4554.5798 - val_mean_absolute_error: 52.8379 - val_r2_keras: -3.7709e+00\n",
       "Epoch 14/100\n",
       " - 22s - loss: 7459.0132 - mean_absolute_error: 62.8381 - r2_keras: -2.4094e-02 - val_loss: 4509.1839 - val_mean_absolute_error: 54.1525 - val_r2_keras: -4.1941e+00\n",
       "Epoch 15/100\n",
       " - 23s - loss: 6248.1602 - mean_absolute_error: 51.2314 - r2_keras: 0.1460 - val_loss: 3001.1004 - val_mean_absolute_error: 33.4398 - val_r2_keras: -1.2288e+00\n",
       "Epoch 16/100\n",
       " - 22s - loss: 5668.7424 - mean_absolute_error: 46.8387 - r2_keras: 0.2257 - val_loss: 2541.6623 - val_mean_absolute_error: 30.5420 - val_r2_keras: -8.4102e-01\n",
       "Epoch 17/100\n",
       " - 23s - loss: 5176.1323 - mean_absolute_error: 43.0511 - r2_keras: 0.2921 - val_loss: 2410.7518 - val_mean_absolute_error: 32.2252 - val_r2_keras: -9.4996e-01\n",
       "Epoch 18/100\n",
       " - 22s - loss: 4782.7588 - mean_absolute_error: 40.7903 - r2_keras: 0.3501 - val_loss: 2043.0382 - val_mean_absolute_error: 26.4616 - val_r2_keras: -5.3446e-01\n",
       "Epoch 19/100\n",
       " - 22s - loss: 4413.8965 - mean_absolute_error: 38.3188 - r2_keras: 0.3993 - val_loss: 2061.3193 - val_mean_absolute_error: 29.9101 - val_r2_keras: -6.8520e-01\n",
       "Epoch 20/100\n",
       " - 23s - loss: 4102.5652 - mean_absolute_error: 36.4102 - r2_keras: 0.4424 - val_loss: 1931.8698 - val_mean_absolute_error: 27.6970 - val_r2_keras: -6.0803e-01\n",
       "Epoch 21/100\n",
       " - 22s - loss: 3802.4891 - mean_absolute_error: 34.6710 - r2_keras: 0.4841 - val_loss: 1677.0719 - val_mean_absolute_error: 26.4496 - val_r2_keras: -3.7155e-01\n",
       "Epoch 22/100\n",
       " - 23s - loss: 3486.6993 - mean_absolute_error: 32.5233 - r2_keras: 0.5261 - val_loss: 1329.0665 - val_mean_absolute_error: 20.2293 - val_r2_keras: 0.0416\n",
       "Epoch 23/100\n",
       " - 22s - loss: 3239.3465 - mean_absolute_error: 31.1431 - r2_keras: 0.5607 - val_loss: 1300.1716 - val_mean_absolute_error: 20.7122 - val_r2_keras: -4.2491e-03\n",
       "Epoch 24/100\n",
       " - 22s - loss: 3013.3002 - mean_absolute_error: 29.7953 - r2_keras: 0.5931 - val_loss: 1104.8807 - val_mean_absolute_error: 18.9211 - val_r2_keras: 0.2059\n",
       "Epoch 25/100\n",
       " - 23s - loss: 2798.4660 - mean_absolute_error: 28.5798 - r2_keras: 0.6229 - val_loss: 1366.5667 - val_mean_absolute_error: 24.7477 - val_r2_keras: -2.0761e-01\n",
       "Epoch 26/100\n",
       " - 22s - loss: 2600.8432 - mean_absolute_error: 27.3571 - r2_keras: 0.6493 - val_loss: 872.3934 - val_mean_absolute_error: 16.2685 - val_r2_keras: 0.3495\n",
       "Epoch 27/100\n",
       " - 22s - loss: 2409.2000 - mean_absolute_error: 26.3420 - r2_keras: 0.6732 - val_loss: 856.8947 - val_mean_absolute_error: 16.5398 - val_r2_keras: 0.3453\n",
       "Epoch 28/100\n",
       " - 23s - loss: 2245.3137 - mean_absolute_error: 25.4222 - r2_keras: 0.6957 - val_loss: 932.1219 - val_mean_absolute_error: 18.8404 - val_r2_keras: 0.2256\n",
       "Epoch 29/100\n",
       " - 22s - loss: 2065.4699 - mean_absolute_error: 24.2918 - r2_keras: 0.7224 - val_loss: 717.0362 - val_mean_absolute_error: 15.5640 - val_r2_keras: 0.4641\n",
       "Epoch 30/100\n",
       " - 22s - loss: 1942.8513 - mean_absolute_error: 23.5548 - r2_keras: 0.7397 - val_loss: 689.4812 - val_mean_absolute_error: 16.1447 - val_r2_keras: 0.4247\n",
       "Epoch 31/100\n",
       " - 22s - loss: 1765.2892 - mean_absolute_error: 22.2149 - r2_keras: 0.7635 - val_loss: 612.6329 - val_mean_absolute_error: 14.8733 - val_r2_keras: 0.4972\n",
       "Epoch 32/100\n",
       " - 22s - loss: 1675.0675 - mean_absolute_error: 21.7947 - r2_keras: 0.7743 - val_loss: 647.8640 - val_mean_absolute_error: 14.7981 - val_r2_keras: 0.4993\n",
       "Epoch 33/100\n",
       " - 22s - loss: 1550.9930 - mean_absolute_error: 20.9859 - r2_keras: 0.7910 - val_loss: 492.8195 - val_mean_absolute_error: 13.1684 - val_r2_keras: 0.6454\n",
       "Epoch 34/100\n",
       " - 22s - loss: 1427.5992 - mean_absolute_error: 20.2547 - r2_keras: 0.8080 - val_loss: 394.1912 - val_mean_absolute_error: 11.2692 - val_r2_keras: 0.7092\n",
       "Epoch 35/100\n",
       " - 22s - loss: 1349.5585 - mean_absolute_error: 19.7380 - r2_keras: 0.8169 - val_loss: 443.3319 - val_mean_absolute_error: 12.0167 - val_r2_keras: 0.6497\n",
       "Epoch 36/100\n",
       " - 22s - loss: 1286.7043 - mean_absolute_error: 19.4025 - r2_keras: 0.8260 - val_loss: 468.7550 - val_mean_absolute_error: 15.1115 - val_r2_keras: 0.5648\n",
       "Epoch 37/100\n",
       " - 22s - loss: 1187.7044 - mean_absolute_error: 18.8032 - r2_keras: 0.8397 - val_loss: 391.3090 - val_mean_absolute_error: 11.9181 - val_r2_keras: 0.6715\n",
       "Epoch 38/100\n",
       " - 22s - loss: 1107.1214 - mean_absolute_error: 18.2653 - r2_keras: 0.8497 - val_loss: 322.6870 - val_mean_absolute_error: 10.5735 - val_r2_keras: 0.7407\n",
       "Epoch 39/100\n",
       " - 22s - loss: 1059.4605 - mean_absolute_error: 17.9617 - r2_keras: 0.8573 - val_loss: 281.6222 - val_mean_absolute_error: 9.9262 - val_r2_keras: 0.7766\n",
       "Epoch 40/100\n",
       " - 23s - loss: 1005.4010 - mean_absolute_error: 17.7286 - r2_keras: 0.8651 - val_loss: 328.8119 - val_mean_absolute_error: 12.9475 - val_r2_keras: 0.6853\n",
       "Epoch 41/100\n",
       " - 22s - loss: 966.4607 - mean_absolute_error: 17.4738 - r2_keras: 0.8701 - val_loss: 278.9528 - val_mean_absolute_error: 10.1461 - val_r2_keras: 0.7765\n",
       "Epoch 42/100\n",
       " - 22s - loss: 896.2782 - mean_absolute_error: 16.8878 - r2_keras: 0.8786 - val_loss: 571.0348 - val_mean_absolute_error: 15.9267 - val_r2_keras: 0.4626\n",
       "Epoch 43/100\n",
       " - 22s - loss: 865.8169 - mean_absolute_error: 16.5732 - r2_keras: 0.8824 - val_loss: 373.5262 - val_mean_absolute_error: 12.9269 - val_r2_keras: 0.6505\n",
       "Epoch 44/100\n",
       " - 22s - loss: 819.0561 - mean_absolute_error: 16.1891 - r2_keras: 0.8886 - val_loss: 511.9848 - val_mean_absolute_error: 14.9366 - val_r2_keras: 0.5482\n",
       "Epoch 45/100\n",
       " - 22s - loss: 807.0567 - mean_absolute_error: 16.0467 - r2_keras: 0.8907 - val_loss: 371.7835 - val_mean_absolute_error: 11.7265 - val_r2_keras: 0.7398\n",
       "Epoch 46/100\n",
       " - 22s - loss: 777.2518 - mean_absolute_error: 15.9380 - r2_keras: 0.8944 - val_loss: 254.9213 - val_mean_absolute_error: 11.1362 - val_r2_keras: 0.7615\n",
       "Epoch 47/100\n",
       " - 22s - loss: 743.6177 - mean_absolute_error: 15.7525 - r2_keras: 0.8983 - val_loss: 375.7739 - val_mean_absolute_error: 12.6413 - val_r2_keras: 0.6885\n",
       "Epoch 48/100\n",
       " - 22s - loss: 758.6850 - mean_absolute_error: 15.8100 - r2_keras: 0.8974 - val_loss: 327.1177 - val_mean_absolute_error: 10.7298 - val_r2_keras: 0.7517\n",
       "Epoch 49/100\n",
       " - 22s - loss: 669.2708 - mean_absolute_error: 14.9461 - r2_keras: 0.9090 - val_loss: 213.7479 - val_mean_absolute_error: 9.8780 - val_r2_keras: 0.8151\n",
       "Epoch 50/100\n",
       " - 23s - loss: 678.6789 - mean_absolute_error: 14.9896 - r2_keras: 0.9076 - val_loss: 353.8832 - val_mean_absolute_error: 14.2927 - val_r2_keras: 0.6287\n",
       "Epoch 51/100\n",
       " - 22s - loss: 635.7156 - mean_absolute_error: 14.6488 - r2_keras: 0.9128 - val_loss: 292.3906 - val_mean_absolute_error: 11.2399 - val_r2_keras: 0.7481\n",
       "Epoch 52/100\n",
       " - 23s - loss: 655.0690 - mean_absolute_error: 14.8351 - r2_keras: 0.9113 - val_loss: 218.0897 - val_mean_absolute_error: 9.1507 - val_r2_keras: 0.8070\n",
       "Epoch 53/100\n",
       " - 23s - loss: 573.2140 - mean_absolute_error: 13.9272 - r2_keras: 0.9215 - val_loss: 434.1635 - val_mean_absolute_error: 14.8104 - val_r2_keras: 0.5756\n",
       "Epoch 54/100\n",
       " - 22s - loss: 549.5139 - mean_absolute_error: 13.8243 - r2_keras: 0.9252 - val_loss: 579.9667 - val_mean_absolute_error: 18.9811 - val_r2_keras: 0.3126\n",
       "Epoch 55/100\n",
       " - 23s - loss: 539.5343 - mean_absolute_error: 13.5663 - r2_keras: 0.9261 - val_loss: 248.2582 - val_mean_absolute_error: 9.7360 - val_r2_keras: 0.7594\n",
       "Epoch 56/100\n",
       " - 22s - loss: 532.8639 - mean_absolute_error: 13.6131 - r2_keras: 0.9266 - val_loss: 259.8485 - val_mean_absolute_error: 10.8265 - val_r2_keras: 0.7440\n",
       "Epoch 57/100\n",
       " - 22s - loss: 493.5143 - mean_absolute_error: 13.2136 - r2_keras: 0.9320 - val_loss: 298.2147 - val_mean_absolute_error: 10.3894 - val_r2_keras: 0.7268\n",
       "Epoch 58/100\n",
       " - 22s - loss: 492.9020 - mean_absolute_error: 13.1619 - r2_keras: 0.9321 - val_loss: 300.0373 - val_mean_absolute_error: 11.3407 - val_r2_keras: 0.7199\n",
       "Epoch 59/100\n",
       " - 22s - loss: 465.8081 - mean_absolute_error: 12.8902 - r2_keras: 0.9362 - val_loss: 343.7686 - val_mean_absolute_error: 11.4331 - val_r2_keras: 0.6584\n",
       "dict_keys([&apos;val_r2_keras&apos;, &apos;val_loss&apos;, &apos;val_mean_absolute_error&apos;, &apos;loss&apos;, &apos;mean_absolute_error&apos;, &apos;r2_keras&apos;])\n",
       "</div>"
      ]
     },
     "metadata": {},
     "output_type": "display_data"
    }
   ],
   "source": [
    "##################################\n",
    "# Modeling\n",
    "##################################\n",
    "\n",
    "# Next, we build a deep network. \n",
    "# The first layer is an LSTM layer with 100 units followed by another LSTM layer with 50 units. \n",
    "# Dropout is also applied after each LSTM layer to control overfitting. \n",
    "# Final layer is a Dense output layer with single unit and linear activation since this is a regression problem.\n",
    "nb_features = seq_array.shape[2]\n",
    "nb_out = label_array.shape[1]\n",
    "\n",
    "model = Sequential()\n",
    "model.add(LSTM(\n",
    "         input_shape=(sequence_length, nb_features),\n",
    "         units=100,\n",
    "         return_sequences=True))\n",
    "model.add(Dropout(0.2))\n",
    "model.add(LSTM(\n",
    "          units=50,\n",
    "          return_sequences=False))\n",
    "model.add(Dropout(0.2))\n",
    "model.add(Dense(units=nb_out))\n",
    "model.add(Activation(\"linear\"))\n",
    "model.compile(loss='mean_squared_error', optimizer='rmsprop',metrics=['mae',r2_keras])\n",
    "\n",
    "print(model.summary())\n",
    "\n",
    "# fit the network\n",
    "# history = model.fit(seq_array, label_array, epochs=100, batch_size=100, validation_split=0.1, verbose=2,\n",
    "#           callbacks = [keras.callbacks.EarlyStopping(monitor='val_loss', min_delta=0, patience=10, verbose=0, mode='min'),\n",
    "#                        keras.callbacks.ModelCheckpoint(model_path,monitor='val_loss', save_best_only=True, mode='min', verbose=0)]\n",
    "#           )\n",
    "\n",
    "# history = model.fit(seq_array, label_array, epochs=100, batch_size=100, validation_split=0.1, verbose=2,\n",
    "#           callbacks = [keras.callbacks.EarlyStopping(monitor='val_loss', min_delta=0, patience=10, verbose=0, mode='min')]\n",
    "#           )\n",
    "\n",
    "history = model.fit(seq_array, label_array, epochs=100, batch_size=100, validation_data=(seq_array_test, label_array_test), verbose=2,\n",
    "          callbacks = [keras.callbacks.EarlyStopping(monitor='val_loss', min_delta=0, patience=10, verbose=0, mode='min')]\n",
    "          )\n",
    "\n",
    "# list all data in history\n",
    "print(history.history.keys())"
   ]
  },
  {
   "cell_type": "code",
   "execution_count": 22,
   "metadata": {},
   "outputs": [
    {
     "data": {
      "text/html": [
       "<style scoped>\n",
       "  .ansiout {\n",
       "    display: block;\n",
       "    unicode-bidi: embed;\n",
       "    white-space: pre-wrap;\n",
       "    word-wrap: break-word;\n",
       "    word-break: break-all;\n",
       "    font-family: \"Source Code Pro\", \"Menlo\", monospace;;\n",
       "    font-size: 13px;\n",
       "    color: #555;\n",
       "    margin-left: 4px;\n",
       "    line-height: 19px;\n",
       "  }\n",
       "</style>\n",
       "<div class=\"ansiout\"><span class=\"ansired\">---------------------------------------------------------------------------</span>\n",
       "<span class=\"ansired\">OSError</span>                                   Traceback (most recent call last)\n",
       "<span class=\"ansigreen\">&lt;command-4255519565090214&gt;</span> in <span class=\"ansicyan\">&lt;module&gt;</span><span class=\"ansiblue\">()</span>\n",
       "<span class=\"ansigreen\">      1</span> <span class=\"ansired\"># define path to save model</span><span class=\"ansiyellow\"></span><span class=\"ansiyellow\"></span>\n",
       "<span class=\"ansigreen\">      2</span> model_path <span class=\"ansiyellow\">=</span> <span class=\"ansiblue\">&quot;/mnt/t3diiotdatastorage/rul_model.h5&quot;</span><span class=\"ansiyellow\"></span>\n",
       "<span class=\"ansigreen\">----&gt; 3</span><span class=\"ansiyellow\"> </span>model<span class=\"ansiyellow\">.</span>save<span class=\"ansiyellow\">(</span>model_path<span class=\"ansiyellow\">)</span><span class=\"ansiyellow\"></span>\n",
       "\n",
       "<span class=\"ansigreen\">/databricks/python/lib/python3.5/site-packages/keras/engine/network.py</span> in <span class=\"ansicyan\">save</span><span class=\"ansiblue\">(self, filepath, overwrite, include_optimizer)</span>\n",
       "<span class=\"ansigreen\">   1088</span>             <span class=\"ansigreen\">raise</span> NotImplementedError<span class=\"ansiyellow\"></span>\n",
       "<span class=\"ansigreen\">   1089</span>         <span class=\"ansigreen\">from</span> <span class=\"ansiyellow\">.</span><span class=\"ansiyellow\">.</span>models <span class=\"ansigreen\">import</span> save_model<span class=\"ansiyellow\"></span>\n",
       "<span class=\"ansigreen\">-&gt; 1090</span><span class=\"ansiyellow\">         </span>save_model<span class=\"ansiyellow\">(</span>self<span class=\"ansiyellow\">,</span> filepath<span class=\"ansiyellow\">,</span> overwrite<span class=\"ansiyellow\">,</span> include_optimizer<span class=\"ansiyellow\">)</span><span class=\"ansiyellow\"></span>\n",
       "<span class=\"ansigreen\">   1091</span> <span class=\"ansiyellow\"></span>\n",
       "<span class=\"ansigreen\">   1092</span>     <span class=\"ansigreen\">def</span> save_weights<span class=\"ansiyellow\">(</span>self<span class=\"ansiyellow\">,</span> filepath<span class=\"ansiyellow\">,</span> overwrite<span class=\"ansiyellow\">=</span><span class=\"ansigreen\">True</span><span class=\"ansiyellow\">)</span><span class=\"ansiyellow\">:</span><span class=\"ansiyellow\"></span>\n",
       "\n",
       "<span class=\"ansigreen\">/databricks/python/lib/python3.5/site-packages/keras/engine/saving.py</span> in <span class=\"ansicyan\">save_model</span><span class=\"ansiblue\">(model, filepath, overwrite, include_optimizer)</span>\n",
       "<span class=\"ansigreen\">    377</span>         opened_new_file <span class=\"ansiyellow\">=</span> <span class=\"ansigreen\">False</span><span class=\"ansiyellow\"></span>\n",
       "<span class=\"ansigreen\">    378</span> <span class=\"ansiyellow\"></span>\n",
       "<span class=\"ansigreen\">--&gt; 379</span><span class=\"ansiyellow\">     </span>f <span class=\"ansiyellow\">=</span> h5dict<span class=\"ansiyellow\">(</span>filepath<span class=\"ansiyellow\">,</span> mode<span class=\"ansiyellow\">=</span><span class=\"ansiblue\">&apos;w&apos;</span><span class=\"ansiyellow\">)</span><span class=\"ansiyellow\"></span>\n",
       "<span class=\"ansigreen\">    380</span> <span class=\"ansiyellow\"></span>\n",
       "<span class=\"ansigreen\">    381</span>     <span class=\"ansigreen\">try</span><span class=\"ansiyellow\">:</span><span class=\"ansiyellow\"></span>\n",
       "\n",
       "<span class=\"ansigreen\">/databricks/python/lib/python3.5/site-packages/keras/utils/io_utils.py</span> in <span class=\"ansicyan\">__init__</span><span class=\"ansiblue\">(self, path, mode)</span>\n",
       "<span class=\"ansigreen\">    184</span>             self<span class=\"ansiyellow\">.</span>_is_file <span class=\"ansiyellow\">=</span> <span class=\"ansigreen\">False</span><span class=\"ansiyellow\"></span>\n",
       "<span class=\"ansigreen\">    185</span>         <span class=\"ansigreen\">elif</span> isinstance<span class=\"ansiyellow\">(</span>path<span class=\"ansiyellow\">,</span> str<span class=\"ansiyellow\">)</span><span class=\"ansiyellow\">:</span><span class=\"ansiyellow\"></span>\n",
       "<span class=\"ansigreen\">--&gt; 186</span><span class=\"ansiyellow\">             </span>self<span class=\"ansiyellow\">.</span>data <span class=\"ansiyellow\">=</span> h5py<span class=\"ansiyellow\">.</span>File<span class=\"ansiyellow\">(</span>path<span class=\"ansiyellow\">,</span> mode<span class=\"ansiyellow\">=</span>mode<span class=\"ansiyellow\">)</span><span class=\"ansiyellow\"></span>\n",
       "<span class=\"ansigreen\">    187</span>             self<span class=\"ansiyellow\">.</span>_is_file <span class=\"ansiyellow\">=</span> <span class=\"ansigreen\">True</span><span class=\"ansiyellow\"></span>\n",
       "<span class=\"ansigreen\">    188</span>         <span class=\"ansigreen\">elif</span> isinstance<span class=\"ansiyellow\">(</span>path<span class=\"ansiyellow\">,</span> dict<span class=\"ansiyellow\">)</span><span class=\"ansiyellow\">:</span><span class=\"ansiyellow\"></span>\n",
       "\n",
       "<span class=\"ansigreen\">/databricks/python/lib/python3.5/site-packages/h5py/_hl/files.py</span> in <span class=\"ansicyan\">__init__</span><span class=\"ansiblue\">(self, name, mode, driver, libver, userblock_size, swmr, rdcc_nslots, rdcc_nbytes, rdcc_w0, track_order, **kwds)</span>\n",
       "<span class=\"ansigreen\">    392</span>                 fid = make_fid(name, mode, userblock_size,\n",
       "<span class=\"ansigreen\">    393</span>                                fapl<span class=\"ansiyellow\">,</span> fcpl<span class=\"ansiyellow\">=</span>make_fcpl<span class=\"ansiyellow\">(</span>track_order<span class=\"ansiyellow\">=</span>track_order<span class=\"ansiyellow\">)</span><span class=\"ansiyellow\">,</span><span class=\"ansiyellow\"></span>\n",
       "<span class=\"ansigreen\">--&gt; 394</span><span class=\"ansiyellow\">                                swmr=swmr)\n",
       "</span><span class=\"ansigreen\">    395</span> <span class=\"ansiyellow\"></span>\n",
       "<span class=\"ansigreen\">    396</span>             <span class=\"ansigreen\">if</span> swmr_support<span class=\"ansiyellow\">:</span><span class=\"ansiyellow\"></span>\n",
       "\n",
       "<span class=\"ansigreen\">/databricks/python/lib/python3.5/site-packages/h5py/_hl/files.py</span> in <span class=\"ansicyan\">make_fid</span><span class=\"ansiblue\">(name, mode, userblock_size, fapl, fcpl, swmr)</span>\n",
       "<span class=\"ansigreen\">    174</span>         fid <span class=\"ansiyellow\">=</span> h5f<span class=\"ansiyellow\">.</span>create<span class=\"ansiyellow\">(</span>name<span class=\"ansiyellow\">,</span> h5f<span class=\"ansiyellow\">.</span>ACC_EXCL<span class=\"ansiyellow\">,</span> fapl<span class=\"ansiyellow\">=</span>fapl<span class=\"ansiyellow\">,</span> fcpl<span class=\"ansiyellow\">=</span>fcpl<span class=\"ansiyellow\">)</span><span class=\"ansiyellow\"></span>\n",
       "<span class=\"ansigreen\">    175</span>     <span class=\"ansigreen\">elif</span> mode <span class=\"ansiyellow\">==</span> <span class=\"ansiblue\">&apos;w&apos;</span><span class=\"ansiyellow\">:</span><span class=\"ansiyellow\"></span>\n",
       "<span class=\"ansigreen\">--&gt; 176</span><span class=\"ansiyellow\">         </span>fid <span class=\"ansiyellow\">=</span> h5f<span class=\"ansiyellow\">.</span>create<span class=\"ansiyellow\">(</span>name<span class=\"ansiyellow\">,</span> h5f<span class=\"ansiyellow\">.</span>ACC_TRUNC<span class=\"ansiyellow\">,</span> fapl<span class=\"ansiyellow\">=</span>fapl<span class=\"ansiyellow\">,</span> fcpl<span class=\"ansiyellow\">=</span>fcpl<span class=\"ansiyellow\">)</span><span class=\"ansiyellow\"></span>\n",
       "<span class=\"ansigreen\">    177</span>     <span class=\"ansigreen\">elif</span> mode <span class=\"ansiyellow\">==</span> <span class=\"ansiblue\">&apos;a&apos;</span><span class=\"ansiyellow\">:</span><span class=\"ansiyellow\"></span>\n",
       "<span class=\"ansigreen\">    178</span>         <span class=\"ansired\"># Open in append mode (read/write).</span><span class=\"ansiyellow\"></span><span class=\"ansiyellow\"></span>\n",
       "\n",
       "<span class=\"ansigreen\">/databricks/python/lib/python3.5/site-packages/h5py/_objects.cpython-35m-x86_64-linux-gnu.so</span> in <span class=\"ansicyan\">h5py._objects.with_phil.wrapper</span><span class=\"ansiblue\">()</span>\n",
       "\n",
       "<span class=\"ansigreen\">/databricks/python/lib/python3.5/site-packages/h5py/_objects.cpython-35m-x86_64-linux-gnu.so</span> in <span class=\"ansicyan\">h5py._objects.with_phil.wrapper</span><span class=\"ansiblue\">()</span>\n",
       "\n",
       "<span class=\"ansigreen\">/databricks/python/lib/python3.5/site-packages/h5py/h5f.cpython-35m-x86_64-linux-gnu.so</span> in <span class=\"ansicyan\">h5py.h5f.create</span><span class=\"ansiblue\">()</span>\n",
       "\n",
       "<span class=\"ansired\">OSError</span>: Unable to create file (unable to open file: name = &apos;/mnt/t3diiotdatastorage/rul_model.h5&apos;, errno = 2, error message = &apos;No such file or directory&apos;, flags = 13, o_flags = 242)</div>"
      ]
     },
     "metadata": {},
     "output_type": "display_data"
    }
   ],
   "source": [
    "# define path to save model\n",
    "model_path = \"/mnt/t3diiotdatastorage/rul_model.h5\"\n",
    "model_path =  \n",
    "dbutils.fs.ls(\"/FileStore/tables/rul_model.h5\")\n",
    "model.save(model_path)"
   ]
  },
  {
   "cell_type": "code",
   "execution_count": 23,
   "metadata": {},
   "outputs": [
    {
     "data": {
      "text/html": [
       "<style scoped>\n",
       "  .ansiout {\n",
       "    display: block;\n",
       "    unicode-bidi: embed;\n",
       "    white-space: pre-wrap;\n",
       "    word-wrap: break-word;\n",
       "    word-break: break-all;\n",
       "    font-family: \"Source Code Pro\", \"Menlo\", monospace;;\n",
       "    font-size: 13px;\n",
       "    color: #555;\n",
       "    margin-left: 4px;\n",
       "    line-height: 19px;\n",
       "  }\n",
       "</style>\n",
       "<div class=\"ansiout\"></div>"
      ]
     },
     "metadata": {},
     "output_type": "display_data"
    }
   ],
   "source": [
    "model_path = \"rul_model.h5\"\n",
    "model.save(model_path)"
   ]
  },
  {
   "cell_type": "code",
   "execution_count": 24,
   "metadata": {},
   "outputs": [
    {
     "data": {
      "text/html": [
       "<style scoped>\n",
       "  .ansiout {\n",
       "    display: block;\n",
       "    unicode-bidi: embed;\n",
       "    white-space: pre-wrap;\n",
       "    word-wrap: break-word;\n",
       "    word-break: break-all;\n",
       "    font-family: \"Source Code Pro\", \"Menlo\", monospace;;\n",
       "    font-size: 13px;\n",
       "    color: #555;\n",
       "    margin-left: 4px;\n",
       "    line-height: 19px;\n",
       "  }\n",
       "</style>\n",
       "<div class=\"ansiout\"><span class=\"ansired\">---------------------------------------------------------------------------</span>\n",
       "<span class=\"ansired\">AttributeError</span>                            Traceback (most recent call last)\n",
       "<span class=\"ansigreen\">&lt;command-4255519565090219&gt;</span> in <span class=\"ansicyan\">&lt;module&gt;</span><span class=\"ansiblue\">()</span>\n",
       "<span class=\"ansigreen\">----&gt; 1</span><span class=\"ansiyellow\"> </span>dbutils<span class=\"ansiyellow\">.</span>fs<span class=\"ansiyellow\">.</span>pwd<span class=\"ansiyellow\">(</span><span class=\"ansiyellow\">)</span><span class=\"ansiyellow\"></span>\n",
       "\n",
       "<span class=\"ansired\">AttributeError</span>: &apos;FSHandler&apos; object has no attribute &apos;pwd&apos;</div>"
      ]
     },
     "metadata": {},
     "output_type": "display_data"
    }
   ],
   "source": [
    "dbutils.fs.ls(\"/mnt/t3diiotdatastorage\")"
   ]
  },
  {
   "cell_type": "code",
   "execution_count": 25,
   "metadata": {},
   "outputs": [
    {
     "data": {
      "text/html": [
       "<style scoped>\n",
       "  .ansiout {\n",
       "    display: block;\n",
       "    unicode-bidi: embed;\n",
       "    white-space: pre-wrap;\n",
       "    word-wrap: break-word;\n",
       "    word-break: break-all;\n",
       "    font-family: \"Source Code Pro\", \"Menlo\", monospace;;\n",
       "    font-size: 13px;\n",
       "    color: #555;\n",
       "    margin-left: 4px;\n",
       "    line-height: 19px;\n",
       "  }\n",
       "</style>\n",
       "<div class=\"ansiout\">\n",
       "  200/12149 [..............................] - ETA: 4s\n",
       "  400/12149 [..............................] - ETA: 3s\n",
       "  600/12149 [&gt;.............................] - ETA: 3s\n",
       "  800/12149 [&gt;.............................] - ETA: 3s\n",
       " 1000/12149 [=&gt;............................] - ETA: 3s\n",
       " 1200/12149 [=&gt;............................] - ETA: 3s\n",
       " 1400/12149 [==&gt;...........................] - ETA: 3s\n",
       " 1600/12149 [==&gt;...........................] - ETA: 3s\n",
       " 1800/12149 [===&gt;..........................] - ETA: 3s\n",
       " 2000/12149 [===&gt;..........................] - ETA: 3s\n",
       " 2200/12149 [====&gt;.........................] - ETA: 3s\n",
       " 2400/12149 [====&gt;.........................] - ETA: 3s\n",
       " 2600/12149 [=====&gt;........................] - ETA: 3s\n",
       " 2800/12149 [=====&gt;........................] - ETA: 3s\n",
       " 3000/12149 [======&gt;.......................] - ETA: 3s\n",
       " 3200/12149 [======&gt;.......................] - ETA: 3s\n",
       " 3400/12149 [=======&gt;......................] - ETA: 2s\n",
       " 3600/12149 [=======&gt;......................] - ETA: 2s\n",
       " 3800/12149 [========&gt;.....................] - ETA: 2s\n",
       " 4000/12149 [========&gt;.....................] - ETA: 2s\n",
       " 4200/12149 [=========&gt;....................] - ETA: 2s\n",
       " 4400/12149 [=========&gt;....................] - ETA: 2s\n",
       " 4600/12149 [==========&gt;...................] - ETA: 2s\n",
       " 4800/12149 [==========&gt;...................] - ETA: 2s\n",
       " 5000/12149 [===========&gt;..................] - ETA: 2s\n",
       " 5200/12149 [===========&gt;..................] - ETA: 2s\n",
       " 5400/12149 [============&gt;.................] - ETA: 2s\n",
       " 5600/12149 [============&gt;.................] - ETA: 2s\n",
       " 5800/12149 [=============&gt;................] - ETA: 2s\n",
       " 6000/12149 [=============&gt;................] - ETA: 2s\n",
       " 6200/12149 [==============&gt;...............] - ETA: 2s\n",
       " 6400/12149 [==============&gt;...............] - ETA: 2s\n",
       " 6600/12149 [===============&gt;..............] - ETA: 1s\n",
       " 6800/12149 [===============&gt;..............] - ETA: 1s\n",
       " 7000/12149 [================&gt;.............] - ETA: 1s\n",
       " 7200/12149 [================&gt;.............] - ETA: 1s\n",
       " 7400/12149 [=================&gt;............] - ETA: 1s\n",
       " 7600/12149 [=================&gt;............] - ETA: 1s\n",
       " 7800/12149 [==================&gt;...........] - ETA: 1s\n",
       " 8000/12149 [==================&gt;...........] - ETA: 1s\n",
       " 8200/12149 [===================&gt;..........] - ETA: 1s\n",
       " 8400/12149 [===================&gt;..........] - ETA: 1s\n",
       " 8600/12149 [====================&gt;.........] - ETA: 1s\n",
       " 8800/12149 [====================&gt;.........] - ETA: 1s\n",
       " 9000/12149 [=====================&gt;........] - ETA: 1s\n",
       " 9200/12149 [=====================&gt;........] - ETA: 1s\n",
       " 9400/12149 [======================&gt;.......] - ETA: 0s\n",
       " 9600/12149 [======================&gt;.......] - ETA: 0s\n",
       " 9800/12149 [=======================&gt;......] - ETA: 0s\n",
       "10000/12149 [=======================&gt;......] - ETA: 0s\n",
       "10200/12149 [========================&gt;.....] - ETA: 0s\n",
       "10400/12149 [========================&gt;.....] - ETA: 0s\n",
       "10600/12149 [=========================&gt;....] - ETA: 0s\n",
       "10800/12149 [=========================&gt;....] - ETA: 0s\n",
       "11000/12149 [==========================&gt;...] - ETA: 0s\n",
       "11200/12149 [==========================&gt;...] - ETA: 0s\n",
       "11400/12149 [===========================&gt;..] - ETA: 0s\n",
       "11600/12149 [===========================&gt;..] - ETA: 0s\n",
       "11800/12149 [============================&gt;.] - ETA: 0s\n",
       "12000/12149 [============================&gt;.] - ETA: 0s\n",
       "12149/12149 [==============================] - 4s 348us/step\n",
       "\n",
       "MAE: 11.344360111750579\n",
       "\n",
       "R^2: 0.8838620221372474\n",
       "</div>"
      ]
     },
     "metadata": {},
     "output_type": "display_data"
    }
   ],
   "source": [
    "# training metrics\n",
    "train_scores = model.evaluate(seq_array, label_array, verbose=1, batch_size=200)"
   ]
  },
  {
   "cell_type": "code",
   "execution_count": 26,
   "metadata": {},
   "outputs": [
    {
     "data": {
      "text/html": [
       "<style scoped>\n",
       "  .ansiout {\n",
       "    display: block;\n",
       "    unicode-bidi: embed;\n",
       "    white-space: pre-wrap;\n",
       "    word-wrap: break-word;\n",
       "    word-break: break-all;\n",
       "    font-family: \"Source Code Pro\", \"Menlo\", monospace;;\n",
       "    font-size: 13px;\n",
       "    color: #555;\n",
       "    margin-left: 4px;\n",
       "    line-height: 19px;\n",
       "  }\n",
       "</style>\n",
       "<div class=\"ansiout\">\n",
       "Train MAE: 11.344360111750579\n",
       "\n",
       "Train R^2: 0.8838620221372474\n",
       "</div>"
      ]
     },
     "metadata": {},
     "output_type": "display_data"
    }
   ],
   "source": [
    "# training metrics\n",
    "print('\\nTrain MAE: {}'.format(train_scores[1]))\n",
    "print('\\nTrain R^2: {}'.format(train_scores[2]))"
   ]
  },
  {
   "cell_type": "code",
   "execution_count": 27,
   "metadata": {},
   "outputs": [
    {
     "data": {
      "text/html": [
       "<style scoped>\n",
       "  .ansiout {\n",
       "    display: block;\n",
       "    unicode-bidi: embed;\n",
       "    white-space: pre-wrap;\n",
       "    word-wrap: break-word;\n",
       "    word-break: break-all;\n",
       "    font-family: \"Source Code Pro\", \"Menlo\", monospace;;\n",
       "    font-size: 13px;\n",
       "    color: #555;\n",
       "    margin-left: 4px;\n",
       "    line-height: 19px;\n",
       "  }\n",
       "</style>\n",
       "<div class=\"ansiout\">\n",
       " 200/2571 [=&gt;............................] - ETA: 0s\n",
       " 400/2571 [===&gt;..........................] - ETA: 0s\n",
       " 600/2571 [======&gt;.......................] - ETA: 0s\n",
       " 800/2571 [========&gt;.....................] - ETA: 0s\n",
       "1000/2571 [==========&gt;...................] - ETA: 0s\n",
       "1200/2571 [=============&gt;................] - ETA: 0s\n",
       "1400/2571 [===============&gt;..............] - ETA: 0s\n",
       "1600/2571 [=================&gt;............] - ETA: 0s\n",
       "1800/2571 [====================&gt;.........] - ETA: 0s\n",
       "2000/2571 [======================&gt;.......] - ETA: 0s\n",
       "2200/2571 [========================&gt;.....] - ETA: 0s\n",
       "2400/2571 [===========================&gt;..] - ETA: 0s\n",
       "2571/2571 [==============================] - 1s 353us/step\n",
       "</div>"
      ]
     },
     "metadata": {},
     "output_type": "display_data"
    }
   ],
   "source": [
    "# testing metrics\n",
    "test_scores = model.evaluate(seq_array_test, label_array_test, verbose=1, batch_size=200)"
   ]
  },
  {
   "cell_type": "code",
   "execution_count": 28,
   "metadata": {},
   "outputs": [
    {
     "data": {
      "text/html": [
       "<style scoped>\n",
       "  .ansiout {\n",
       "    display: block;\n",
       "    unicode-bidi: embed;\n",
       "    white-space: pre-wrap;\n",
       "    word-wrap: break-word;\n",
       "    word-break: break-all;\n",
       "    font-family: \"Source Code Pro\", \"Menlo\", monospace;;\n",
       "    font-size: 13px;\n",
       "    color: #555;\n",
       "    margin-left: 4px;\n",
       "    line-height: 19px;\n",
       "  }\n",
       "</style>\n",
       "<div class=\"ansiout\">\n",
       "Test MAE: 11.433075410946016\n",
       "\n",
       "Test R^2: 0.8595819477439622\n",
       "</div>"
      ]
     },
     "metadata": {},
     "output_type": "display_data"
    }
   ],
   "source": [
    "# testing metrics\n",
    "print('\\nTest MAE: {}'.format(test_scores[1]))\n",
    "print('\\nTest R^2: {}'.format(test_scores[2]))"
   ]
  },
  {
   "cell_type": "code",
   "execution_count": 29,
   "metadata": {},
   "outputs": [
    {
     "data": {
      "text/html": [
       "<style scoped>\n",
       "  .ansiout {\n",
       "    display: block;\n",
       "    unicode-bidi: embed;\n",
       "    white-space: pre-wrap;\n",
       "    word-wrap: break-word;\n",
       "    word-break: break-all;\n",
       "    font-family: \"Source Code Pro\", \"Menlo\", monospace;;\n",
       "    font-size: 13px;\n",
       "    color: #555;\n",
       "    margin-left: 4px;\n",
       "    line-height: 19px;\n",
       "  }\n",
       "</style>\n",
       "<div class=\"ansiout\"><span class=\"ansired\">Out[</span><span class=\"ansired\">39</span><span class=\"ansired\">]: </span>\n",
       "[FileInfo(path=&apos;dbfs:/mnt/t3diiotdatastorage/Device Data with Timestamps.csv&apos;, name=&apos;Device Data with Timestamps.csv&apos;, size=928420),\n",
       " FileInfo(path=&apos;dbfs:/mnt/t3diiotdatastorage/Device Data.csv&apos;, name=&apos;Device Data.csv&apos;, size=744580),\n",
       " FileInfo(path=&apos;dbfs:/mnt/t3diiotdatastorage/Sample Data.csv&apos;, name=&apos;Sample Data.csv&apos;, size=3982164),\n",
       " FileInfo(path=&apos;dbfs:/mnt/t3diiotdatastorage/predict-transform-output.csv&apos;, name=&apos;predict-transform-output.csv&apos;, size=1080542),\n",
       " FileInfo(path=&apos;dbfs:/mnt/t3diiotdatastorage/processed_train_fd001_with_rul.csv&apos;, name=&apos;processed_train_fd001_with_rul.csv&apos;, size=3548554),\n",
       " FileInfo(path=&apos;dbfs:/mnt/t3diiotdatastorage/wrangled_data_folder/&apos;, name=&apos;wrangled_data_folder/&apos;, size=0)]\n",
       "</div>"
      ]
     },
     "metadata": {},
     "output_type": "display_data"
    }
   ],
   "source": [
    "dbutils.fs.ls(\"/mnt/t3diiotdatastorage\")"
   ]
  },
  {
   "cell_type": "code",
   "execution_count": 30,
   "metadata": {},
   "outputs": [
    {
     "data": {
      "text/html": [
       "<style scoped>\n",
       "  .ansiout {\n",
       "    display: block;\n",
       "    unicode-bidi: embed;\n",
       "    white-space: pre-wrap;\n",
       "    word-wrap: break-word;\n",
       "    word-break: break-all;\n",
       "    font-family: \"Source Code Pro\", \"Menlo\", monospace;;\n",
       "    font-size: 13px;\n",
       "    color: #555;\n",
       "    margin-left: 4px;\n",
       "    line-height: 19px;\n",
       "  }\n",
       "</style>\n",
       "<div class=\"ansiout\"><span class=\"ansired\">Out[</span><span class=\"ansired\">47</span><span class=\"ansired\">]: </span>[FileInfo(path=&apos;dbfs:/FileStore/tables/rul_model.h5&apos;, name=&apos;rul_model.h5&apos;, size=612664)]\n",
       "</div>"
      ]
     },
     "metadata": {},
     "output_type": "display_data"
    }
   ],
   "source": [
    "dbutils.fs.ls(\"/FileStore/tables/\")"
   ]
  },
  {
   "cell_type": "code",
   "execution_count": 31,
   "metadata": {},
   "outputs": [],
   "source": []
  }
 ],
 "metadata": {
  "kernelspec": {
   "display_name": "Python 3",
   "language": "python",
   "name": "python3"
  },
  "language_info": {
   "codemirror_mode": {
    "name": "ipython",
    "version": 3
   },
   "file_extension": ".py",
   "mimetype": "text/x-python",
   "name": "python",
   "nbconvert_exporter": "python",
   "pygments_lexer": "ipython3",
   "version": "3.7.3"
  },
  "name": "predict_rul",
  "notebookId": 559627785901248
 },
 "nbformat": 4,
 "nbformat_minor": 1
}
